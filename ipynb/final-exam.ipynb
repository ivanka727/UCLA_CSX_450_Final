{
 "cells": [
  {
   "cell_type": "markdown",
   "metadata": {},
   "source": [
    "![test](NewInstance.png)"
   ]
  },
  {
   "cell_type": "code",
   "execution_count": 21,
   "metadata": {},
   "outputs": [
    {
     "data": {
      "text/html": [
       "<ol class=list-inline>\n",
       "\t<li><span style=white-space:pre-wrap>'USER       PID %CPU %MEM    VSZ   RSS TTY      STAT START   TIME COMMAND'</span></li>\n",
       "\t<li><span style=white-space:pre-wrap>'jovyan       1  0.0  0.0   4364    68 ?        Ss   Jan28   0:00 tini -- start-notebook.sh'</span></li>\n",
       "\t<li><span style=white-space:pre-wrap>'jovyan       5  0.1  5.7 360044 58052 ?        Sl   Jan28   0:14 /opt/conda/bin/python /opt/conda/bin/jupyter-notebook'</span></li>\n",
       "\t<li><span style=white-space:pre-wrap>'jovyan      51  0.0  3.8 320636 39468 ?        Ssl  Jan28   0:00 /opt/conda/lib/R/bin/exec/R --slave -e IRkernel::main() --args /home/jovyan/.local/share/jupyter/runtime/kernel-e8f78453-fa42-4671-b000-9f72886f171c.json'</span></li>\n",
       "\t<li><span style=white-space:pre-wrap>'jovyan      66  0.0  3.9 252152 40472 ?        Ssl  Jan28   0:00 /opt/conda/lib/R/bin/exec/R --slave -e IRkernel::main() --args /home/jovyan/.local/share/jupyter/runtime/kernel-9d873d5b-1694-423b-aaea-f731a215b237.json'</span></li>\n",
       "\t<li><span style=white-space:pre-wrap>'jovyan      81  0.0  4.6 322764 47644 ?        Ssl  Jan28   0:01 /opt/conda/lib/R/bin/exec/R --slave -e IRkernel::main() --args /home/jovyan/.local/share/jupyter/runtime/kernel-95ea348c-708e-427b-b307-6bba96b152a3.json'</span></li>\n",
       "\t<li><span style=white-space:pre-wrap>'jovyan      92  0.0  3.6 252020 36544 ?        Ssl  Jan28   0:00 /opt/conda/lib/R/bin/exec/R --slave -e IRkernel::main() --args /home/jovyan/.local/share/jupyter/runtime/kernel-b2251f5b-8d04-4f9a-9682-6811617e0d0f.json'</span></li>\n",
       "\t<li><span style=white-space:pre-wrap>'jovyan     103  0.0  3.5 252024 35544 ?        Ssl  Jan28   0:00 /opt/conda/lib/R/bin/exec/R --slave -e IRkernel::main() --args /home/jovyan/.local/share/jupyter/runtime/kernel-a3a539b4-8d1f-44bb-9c66-69d6349fc3dc.json'</span></li>\n",
       "\t<li><span style=white-space:pre-wrap>'jovyan     114  0.0  3.8 320604 39164 ?        Ssl  Jan28   0:00 /opt/conda/lib/R/bin/exec/R --slave -e IRkernel::main() --args /home/jovyan/.local/share/jupyter/runtime/kernel-325643f4-f708-4a2c-9510-3d869bfa20b6.json'</span></li>\n",
       "\t<li><span style=white-space:pre-wrap>'jovyan     125  0.0  3.5 252020 35544 ?        Ssl  Jan28   0:00 /opt/conda/lib/R/bin/exec/R --slave -e IRkernel::main() --args /home/jovyan/.local/share/jupyter/runtime/kernel-e011862d-cf2d-4ccf-85ed-d7817c11d787.json'</span></li>\n",
       "\t<li><span style=white-space:pre-wrap>'jovyan     136  0.0  3.5 252024 35540 ?        Ssl  Jan28   0:00 /opt/conda/lib/R/bin/exec/R --slave -e IRkernel::main() --args /home/jovyan/.local/share/jupyter/runtime/kernel-11773e44-f9f7-48b3-a600-f4110a76594d.json'</span></li>\n",
       "\t<li><span style=white-space:pre-wrap>'jovyan     147  0.0  8.6 387764 88136 ?        Ssl  Jan28   0:04 /opt/conda/lib/R/bin/exec/R --slave -e IRkernel::main() --args /home/jovyan/.local/share/jupyter/runtime/kernel-81ca4c22-1f67-473f-bd0e-e64b91d31921.json'</span></li>\n",
       "\t<li><span style=white-space:pre-wrap>'jovyan     308  0.0  0.0   4504   776 ?        S    01:24   0:00 sh -c ps -aux'</span></li>\n",
       "\t<li><span style=white-space:pre-wrap>'jovyan     309  0.0  0.3  36084  3208 ?        R    01:24   0:00 ps -aux'</span></li>\n",
       "</ol>\n"
      ],
      "text/latex": [
       "\\begin{enumerate*}\n",
       "\\item 'USER       PID \\%CPU \\%MEM    VSZ   RSS TTY      STAT START   TIME COMMAND'\n",
       "\\item 'jovyan       1  0.0  0.0   4364    68 ?        Ss   Jan28   0:00 tini -- start-notebook.sh'\n",
       "\\item 'jovyan       5  0.1  5.7 360044 58052 ?        Sl   Jan28   0:14 /opt/conda/bin/python /opt/conda/bin/jupyter-notebook'\n",
       "\\item 'jovyan      51  0.0  3.8 320636 39468 ?        Ssl  Jan28   0:00 /opt/conda/lib/R/bin/exec/R --slave -e IRkernel::main() --args /home/jovyan/.local/share/jupyter/runtime/kernel-e8f78453-fa42-4671-b000-9f72886f171c.json'\n",
       "\\item 'jovyan      66  0.0  3.9 252152 40472 ?        Ssl  Jan28   0:00 /opt/conda/lib/R/bin/exec/R --slave -e IRkernel::main() --args /home/jovyan/.local/share/jupyter/runtime/kernel-9d873d5b-1694-423b-aaea-f731a215b237.json'\n",
       "\\item 'jovyan      81  0.0  4.6 322764 47644 ?        Ssl  Jan28   0:01 /opt/conda/lib/R/bin/exec/R --slave -e IRkernel::main() --args /home/jovyan/.local/share/jupyter/runtime/kernel-95ea348c-708e-427b-b307-6bba96b152a3.json'\n",
       "\\item 'jovyan      92  0.0  3.6 252020 36544 ?        Ssl  Jan28   0:00 /opt/conda/lib/R/bin/exec/R --slave -e IRkernel::main() --args /home/jovyan/.local/share/jupyter/runtime/kernel-b2251f5b-8d04-4f9a-9682-6811617e0d0f.json'\n",
       "\\item 'jovyan     103  0.0  3.5 252024 35544 ?        Ssl  Jan28   0:00 /opt/conda/lib/R/bin/exec/R --slave -e IRkernel::main() --args /home/jovyan/.local/share/jupyter/runtime/kernel-a3a539b4-8d1f-44bb-9c66-69d6349fc3dc.json'\n",
       "\\item 'jovyan     114  0.0  3.8 320604 39164 ?        Ssl  Jan28   0:00 /opt/conda/lib/R/bin/exec/R --slave -e IRkernel::main() --args /home/jovyan/.local/share/jupyter/runtime/kernel-325643f4-f708-4a2c-9510-3d869bfa20b6.json'\n",
       "\\item 'jovyan     125  0.0  3.5 252020 35544 ?        Ssl  Jan28   0:00 /opt/conda/lib/R/bin/exec/R --slave -e IRkernel::main() --args /home/jovyan/.local/share/jupyter/runtime/kernel-e011862d-cf2d-4ccf-85ed-d7817c11d787.json'\n",
       "\\item 'jovyan     136  0.0  3.5 252024 35540 ?        Ssl  Jan28   0:00 /opt/conda/lib/R/bin/exec/R --slave -e IRkernel::main() --args /home/jovyan/.local/share/jupyter/runtime/kernel-11773e44-f9f7-48b3-a600-f4110a76594d.json'\n",
       "\\item 'jovyan     147  0.0  8.6 387764 88136 ?        Ssl  Jan28   0:04 /opt/conda/lib/R/bin/exec/R --slave -e IRkernel::main() --args /home/jovyan/.local/share/jupyter/runtime/kernel-81ca4c22-1f67-473f-bd0e-e64b91d31921.json'\n",
       "\\item 'jovyan     308  0.0  0.0   4504   776 ?        S    01:24   0:00 sh -c ps -aux'\n",
       "\\item 'jovyan     309  0.0  0.3  36084  3208 ?        R    01:24   0:00 ps -aux'\n",
       "\\end{enumerate*}\n"
      ],
      "text/markdown": [
       "1. <span style=white-space:pre-wrap>'USER       PID %CPU %MEM    VSZ   RSS TTY      STAT START   TIME COMMAND'</span>\n",
       "2. <span style=white-space:pre-wrap>'jovyan       1  0.0  0.0   4364    68 ?        Ss   Jan28   0:00 tini -- start-notebook.sh'</span>\n",
       "3. <span style=white-space:pre-wrap>'jovyan       5  0.1  5.7 360044 58052 ?        Sl   Jan28   0:14 /opt/conda/bin/python /opt/conda/bin/jupyter-notebook'</span>\n",
       "4. <span style=white-space:pre-wrap>'jovyan      51  0.0  3.8 320636 39468 ?        Ssl  Jan28   0:00 /opt/conda/lib/R/bin/exec/R --slave -e IRkernel::main() --args /home/jovyan/.local/share/jupyter/runtime/kernel-e8f78453-fa42-4671-b000-9f72886f171c.json'</span>\n",
       "5. <span style=white-space:pre-wrap>'jovyan      66  0.0  3.9 252152 40472 ?        Ssl  Jan28   0:00 /opt/conda/lib/R/bin/exec/R --slave -e IRkernel::main() --args /home/jovyan/.local/share/jupyter/runtime/kernel-9d873d5b-1694-423b-aaea-f731a215b237.json'</span>\n",
       "6. <span style=white-space:pre-wrap>'jovyan      81  0.0  4.6 322764 47644 ?        Ssl  Jan28   0:01 /opt/conda/lib/R/bin/exec/R --slave -e IRkernel::main() --args /home/jovyan/.local/share/jupyter/runtime/kernel-95ea348c-708e-427b-b307-6bba96b152a3.json'</span>\n",
       "7. <span style=white-space:pre-wrap>'jovyan      92  0.0  3.6 252020 36544 ?        Ssl  Jan28   0:00 /opt/conda/lib/R/bin/exec/R --slave -e IRkernel::main() --args /home/jovyan/.local/share/jupyter/runtime/kernel-b2251f5b-8d04-4f9a-9682-6811617e0d0f.json'</span>\n",
       "8. <span style=white-space:pre-wrap>'jovyan     103  0.0  3.5 252024 35544 ?        Ssl  Jan28   0:00 /opt/conda/lib/R/bin/exec/R --slave -e IRkernel::main() --args /home/jovyan/.local/share/jupyter/runtime/kernel-a3a539b4-8d1f-44bb-9c66-69d6349fc3dc.json'</span>\n",
       "9. <span style=white-space:pre-wrap>'jovyan     114  0.0  3.8 320604 39164 ?        Ssl  Jan28   0:00 /opt/conda/lib/R/bin/exec/R --slave -e IRkernel::main() --args /home/jovyan/.local/share/jupyter/runtime/kernel-325643f4-f708-4a2c-9510-3d869bfa20b6.json'</span>\n",
       "10. <span style=white-space:pre-wrap>'jovyan     125  0.0  3.5 252020 35544 ?        Ssl  Jan28   0:00 /opt/conda/lib/R/bin/exec/R --slave -e IRkernel::main() --args /home/jovyan/.local/share/jupyter/runtime/kernel-e011862d-cf2d-4ccf-85ed-d7817c11d787.json'</span>\n",
       "11. <span style=white-space:pre-wrap>'jovyan     136  0.0  3.5 252024 35540 ?        Ssl  Jan28   0:00 /opt/conda/lib/R/bin/exec/R --slave -e IRkernel::main() --args /home/jovyan/.local/share/jupyter/runtime/kernel-11773e44-f9f7-48b3-a600-f4110a76594d.json'</span>\n",
       "12. <span style=white-space:pre-wrap>'jovyan     147  0.0  8.6 387764 88136 ?        Ssl  Jan28   0:04 /opt/conda/lib/R/bin/exec/R --slave -e IRkernel::main() --args /home/jovyan/.local/share/jupyter/runtime/kernel-81ca4c22-1f67-473f-bd0e-e64b91d31921.json'</span>\n",
       "13. <span style=white-space:pre-wrap>'jovyan     308  0.0  0.0   4504   776 ?        S    01:24   0:00 sh -c ps -aux'</span>\n",
       "14. <span style=white-space:pre-wrap>'jovyan     309  0.0  0.3  36084  3208 ?        R    01:24   0:00 ps -aux'</span>\n",
       "\n",
       "\n"
      ],
      "text/plain": [
       " [1] \"USER       PID %CPU %MEM    VSZ   RSS TTY      STAT START   TIME COMMAND\"                                                                                                                                                  \n",
       " [2] \"jovyan       1  0.0  0.0   4364    68 ?        Ss   Jan28   0:00 tini -- start-notebook.sh\"                                                                                                                                \n",
       " [3] \"jovyan       5  0.1  5.7 360044 58052 ?        Sl   Jan28   0:14 /opt/conda/bin/python /opt/conda/bin/jupyter-notebook\"                                                                                                    \n",
       " [4] \"jovyan      51  0.0  3.8 320636 39468 ?        Ssl  Jan28   0:00 /opt/conda/lib/R/bin/exec/R --slave -e IRkernel::main() --args /home/jovyan/.local/share/jupyter/runtime/kernel-e8f78453-fa42-4671-b000-9f72886f171c.json\"\n",
       " [5] \"jovyan      66  0.0  3.9 252152 40472 ?        Ssl  Jan28   0:00 /opt/conda/lib/R/bin/exec/R --slave -e IRkernel::main() --args /home/jovyan/.local/share/jupyter/runtime/kernel-9d873d5b-1694-423b-aaea-f731a215b237.json\"\n",
       " [6] \"jovyan      81  0.0  4.6 322764 47644 ?        Ssl  Jan28   0:01 /opt/conda/lib/R/bin/exec/R --slave -e IRkernel::main() --args /home/jovyan/.local/share/jupyter/runtime/kernel-95ea348c-708e-427b-b307-6bba96b152a3.json\"\n",
       " [7] \"jovyan      92  0.0  3.6 252020 36544 ?        Ssl  Jan28   0:00 /opt/conda/lib/R/bin/exec/R --slave -e IRkernel::main() --args /home/jovyan/.local/share/jupyter/runtime/kernel-b2251f5b-8d04-4f9a-9682-6811617e0d0f.json\"\n",
       " [8] \"jovyan     103  0.0  3.5 252024 35544 ?        Ssl  Jan28   0:00 /opt/conda/lib/R/bin/exec/R --slave -e IRkernel::main() --args /home/jovyan/.local/share/jupyter/runtime/kernel-a3a539b4-8d1f-44bb-9c66-69d6349fc3dc.json\"\n",
       " [9] \"jovyan     114  0.0  3.8 320604 39164 ?        Ssl  Jan28   0:00 /opt/conda/lib/R/bin/exec/R --slave -e IRkernel::main() --args /home/jovyan/.local/share/jupyter/runtime/kernel-325643f4-f708-4a2c-9510-3d869bfa20b6.json\"\n",
       "[10] \"jovyan     125  0.0  3.5 252020 35544 ?        Ssl  Jan28   0:00 /opt/conda/lib/R/bin/exec/R --slave -e IRkernel::main() --args /home/jovyan/.local/share/jupyter/runtime/kernel-e011862d-cf2d-4ccf-85ed-d7817c11d787.json\"\n",
       "[11] \"jovyan     136  0.0  3.5 252024 35540 ?        Ssl  Jan28   0:00 /opt/conda/lib/R/bin/exec/R --slave -e IRkernel::main() --args /home/jovyan/.local/share/jupyter/runtime/kernel-11773e44-f9f7-48b3-a600-f4110a76594d.json\"\n",
       "[12] \"jovyan     147  0.0  8.6 387764 88136 ?        Ssl  Jan28   0:04 /opt/conda/lib/R/bin/exec/R --slave -e IRkernel::main() --args /home/jovyan/.local/share/jupyter/runtime/kernel-81ca4c22-1f67-473f-bd0e-e64b91d31921.json\"\n",
       "[13] \"jovyan     308  0.0  0.0   4504   776 ?        S    01:24   0:00 sh -c ps -aux\"                                                                                                                                            \n",
       "[14] \"jovyan     309  0.0  0.3  36084  3208 ?        R    01:24   0:00 ps -aux\"                                                                                                                                                  "
      ]
     },
     "metadata": {},
     "output_type": "display_data"
    }
   ],
   "source": [
    "system(\"ps -aux\", intern = TRUE)"
   ]
  },
  {
   "cell_type": "markdown",
   "metadata": {},
   "source": [
    "The first line shows the start time of this system is 1/28 0:00 (UTC), from the last line it shows the time when this command \"system(\"ps -aux\", intern = TRUE)\" was ran, it's 1/29 01:24 (UTC), so we can how long this system has been running. "
   ]
  },
  {
   "cell_type": "markdown",
   "metadata": {},
   "source": [
    "What is the length and the magnitude of the vector, (2,5,3,6,2,7,4,5,6)?\n",
    "Length: 9\n",
    "Magnitude: √204￣ = 14.2828568571 "
   ]
  },
  {
   "cell_type": "code",
   "execution_count": 3,
   "metadata": {},
   "outputs": [
    {
     "data": {
      "text/html": [
       "9"
      ],
      "text/latex": [
       "9"
      ],
      "text/markdown": [
       "9"
      ],
      "text/plain": [
       "[1] 9"
      ]
     },
     "metadata": {},
     "output_type": "display_data"
    },
    {
     "data": {
      "text/html": [
       "14.2828568570857"
      ],
      "text/latex": [
       "14.2828568570857"
      ],
      "text/markdown": [
       "14.2828568570857"
      ],
      "text/plain": [
       "[1] 14.28286"
      ]
     },
     "metadata": {},
     "output_type": "display_data"
    }
   ],
   "source": [
    "a <- c(2,5,3,6,2,7,4,5,6)\n",
    "length(a)\n",
    "norm(a, type=\"2\")"
   ]
  },
  {
   "cell_type": "code",
   "execution_count": 22,
   "metadata": {},
   "outputs": [],
   "source": [
    "x <- rbind(c(1,3),c(1,-1))\n",
    "y <- c(4,2)"
   ]
  },
  {
   "cell_type": "code",
   "execution_count": 23,
   "metadata": {},
   "outputs": [
    {
     "data": {
      "text/html": [
       "<ol class=list-inline>\n",
       "\t<li>2.5</li>\n",
       "\t<li>0.5</li>\n",
       "</ol>\n"
      ],
      "text/latex": [
       "\\begin{enumerate*}\n",
       "\\item 2.5\n",
       "\\item 0.5\n",
       "\\end{enumerate*}\n"
      ],
      "text/markdown": [
       "1. 2.5\n",
       "2. 0.5\n",
       "\n",
       "\n"
      ],
      "text/plain": [
       "[1] 2.5 0.5"
      ]
     },
     "metadata": {},
     "output_type": "display_data"
    }
   ],
   "source": [
    "beta <- solve(x,y)\n",
    "beta"
   ]
  },
  {
   "cell_type": "code",
   "execution_count": null,
   "metadata": {},
   "outputs": [],
   "source": [
    " UCLA_CSX_450_Final\n",
    "    ├── data\n",
    "    │   └── abalone.data\n",
    "    ├── ipynb\n",
    "    │   ├── data-description.ipynb\n",
    "    │   ├── final-exam.ipynb\n",
    "    │   └── NewInstance.png\n",
    "    └── README.md"
   ]
  }
 ],
 "metadata": {
  "kernelspec": {
   "display_name": "R",
   "language": "R",
   "name": "ir"
  },
  "language_info": {
   "codemirror_mode": "r",
   "file_extension": ".r",
   "mimetype": "text/x-r-source",
   "name": "R",
   "pygments_lexer": "r",
   "version": "3.3.2"
  }
 },
 "nbformat": 4,
 "nbformat_minor": 2
}
